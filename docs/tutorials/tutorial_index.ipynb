{
 "cells": [
  {
   "cell_type": "markdown",
   "metadata": {},
   "source": [
    "*can you insert a welcome message and a context thjat link to other specific notebooks?*"
   ]
  },
  {
   "cell_type": "markdown",
   "metadata": {
    "vscode": {
     "languageId": "markdown"
    }
   },
   "source": [
    "# Welcome to the istSOS 4 Things tutorial\n",
    "\n",
    "This notebook is designed to help you dive into the istSOS4 use.\n",
    "\n",
    "```{note}\n",
    "Here is a note!\n",
    "```\n",
    "\n",
    ">[!!!NOTE]\n",
    ">This notebook suppose that you have already installed istSOS4 and that you have a running instance of it.  \n",
    ">In alternative you can use the istSOS4 demo instance available at [https://istsos.org/v4/v1.1/](https://istsos.org/v4/v1.1/).  \n",
    "\n",
    "For information on how to install istSOS4, please refer to the [istSOS4 documentation](https://istsos.org/istsos/doc/istsos4-doc/).\n",
    "\n",
    "Below are links to other specific notebooks that you might find useful:\n",
    "\n",
    "- [Data Cleaning Notebook](link_to_data_cleaning_notebook)\n",
    "- [Data Visualization Notebook](link_to_data_visualization_notebook)\n",
    "- [Machine Learning Notebook](link_to_machine_learning_notebook)\n",
    "\n",
    "Feel free to explore and use the resources provided in these notebooks to enhance your data analysis skills."
   ]
  }
 ],
 "metadata": {
  "kernelspec": {
   "display_name": "Python 3",
   "language": "python",
   "name": "python3"
  },
  "language_info": {
   "codemirror_mode": {
    "name": "ipython",
    "version": 3
   },
   "file_extension": ".py",
   "mimetype": "text/x-python",
   "name": "python",
   "nbconvert_exporter": "python",
   "pygments_lexer": "ipython3",
   "version": "3.10.12"
  }
 },
 "nbformat": 4,
 "nbformat_minor": 2
}
