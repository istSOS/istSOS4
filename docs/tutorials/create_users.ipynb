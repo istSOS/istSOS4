{
 "cells": [
  {
   "cell_type": "code",
   "execution_count": null,
   "metadata": {},
   "outputs": [],
   "source": [
    "import json\n",
    "import utils as st\n",
    "from IPython.display import display, Markdown\n",
    "from datetime import datetime, timedelta\n",
    "import os\n",
    "import random\n",
    "import logging\n",
    "\n",
    "# LOG CONFIGURATIONS and FORMATTING\n",
    "DEFAULT_FORMAT = (\n",
    "    \"[%(levelname)1.1s %(asctime)s %(module)s:%(lineno)d] %(message)s\"\n",
    ")\n",
    "DEFAULT_FORMAT = \"[%(levelname)1.1s %(asctime)s] %(message)s\"\n",
    "formatter = logging.Formatter(fmt=DEFAULT_FORMAT)\n",
    "\n",
    "# Get the root logger\n",
    "root_logger = logging.getLogger()\n",
    "root_logger.setLevel(logging.INFO)  # Set the global logging level\n",
    "\n",
    "# Configure the console handler\n",
    "console_handler = logging.StreamHandler()\n",
    "console_handler.setLevel(logging.INFO)\n",
    "console_handler.setFormatter(formatter)\n",
    "\n",
    "# Add the handler to the root logger\n",
    "if not root_logger.handlers:  # Avoid adding multiple handlers\n",
    "    root_logger.addHandler(console_handler)\n",
    "# Reinitialize logging to enforce your configuration\n",
    "logging.getLogger().handlers = []  # Clear any existing handlers\n",
    "logging.basicConfig(\n",
    "    level=logging.DEBUG,\n",
    "    format=DEFAULT_FORMAT,\n",
    "    handlers=[console_handler],\n",
    ")"
   ]
  },
  {
   "cell_type": "code",
   "execution_count": null,
   "metadata": {},
   "outputs": [],
   "source": [
    "\n",
    "# base url\n",
    "############################################\n",
    "# DEFINE INPUTS\n",
    "############################################\n",
    "# base_url = \"https://istsos.org/v4/v1.1/\"\n",
    "base_url = \"http://localhost:8018/istsos4/v1.1/\"\n",
    "# Set your name to have a prefix to had to the station name\n",
    "istsos_username = \"admin\"\n",
    "istsos_password = \"admin\"\n",
    "# set number of user per role\n",
    "N = 5\n",
    "# define roles\n",
    "roles = [\"editor\",\"viewer\",\"obs_manager\",\"sensor\"]\n",
    "#############################################\n",
    "STA = st.sta(base_url, verbose=True)\n",
    "\n",
    "\n",
    "\n",
    "# username = input(\"Enter your username: \")\n",
    "# password = input(\"Enter your password: \")\n",
    "# uri = input(\"Enter your uri (e.g. ORCID): \")\n",
    "\n",
    "for e in roles:\n",
    "    for i in range(N):\n",
    "        username = f\"{e}{i}\"\n",
    "        password = f\"{e}{i}\"\n",
    "        uri = f\"orcid:{e}{i}\"\n",
    "        if STA.create_user(username, password, istsos_admin_password=istsos_password, istsos_admin_user=istsos_username, uri=uri, role=e):\n",
    "            token_obj = STA.get_token(username, password)\n",
    "            logging.info(f\"User {username} created!\")\n",
    "            logging.info(f\"Token expires at: {token_obj['expires_in']} s\")\n",
    "    "
   ]
  }
 ],
 "metadata": {
  "kernelspec": {
   "display_name": "Python 3",
   "language": "python",
   "name": "python3"
  },
  "language_info": {
   "codemirror_mode": {
    "name": "ipython",
    "version": 3
   },
   "file_extension": ".py",
   "mimetype": "text/x-python",
   "name": "python",
   "nbconvert_exporter": "python",
   "pygments_lexer": "ipython3",
   "version": "3.10.12"
  }
 },
 "nbformat": 4,
 "nbformat_minor": 2
}
