{
 "cells": [
  {
   "cell_type": "markdown",
   "id": "3f1ea178-ac07-47a5-8be5-f537c7fe564b",
   "metadata": {},
   "source": [
    "### The Sensing Entities\n",
    "The entities of the SensorThings API's Sensing component are illustrated in the following figure.\n",
    "\n",
    "<img src=\"../assets/images/STA_schema.png\" >\n",
    "\n",
    "To maintain proper references between elements, you must create them in a specific order:\n",
    "\n",
    "1. Thing\n",
    "2. Location\n",
    "3. ObservedProperty\n",
    "4. Sensor\n",
    "5. Datastream\n",
    "6. Observation (+FeatureOfInterest)"
   ]
  },
  {
   "cell_type": "markdown",
   "id": "38b0915c-8a49-4db0-8ec6-3e4b6b541eb3",
   "metadata": {},
   "source": [
    "### Preliminary Steps\n",
    "\n",
    "This section contains the preliminary steps to set up the base URL, headers, and import necessary libraries."
   ]
  },
  {
   "cell_type": "code",
   "execution_count": null,
   "id": "14134686-fd5f-4765-b5f0-a33af68c112b",
   "metadata": {},
   "outputs": [],
   "source": [
    "import requests\n",
    "import json\n",
    "import re\n",
    "import istsos4_utils as st\n",
    "from IPython.display import display, Markdown\n",
    "\n",
    "# base url\n",
    "base_url = \"http://api:5000/istsos4/v1.1/\"\n",
    "\n",
    "# Headers (optional, but specifying Content-Type ensures proper handling of JSON data)\n",
    "headers = {\n",
    "    'Content-Type': 'application/json'\n",
    "}\n",
    "\n",
    "meteo = st.sta(base_url)"
   ]
  },
  {
   "cell_type": "markdown",
   "id": "55fb99fb-bc82-402e-a45f-5a5c86a5badc",
   "metadata": {},
   "source": [
    "### Create a Thing"
   ]
  },
  {
   "cell_type": "code",
   "execution_count": null,
   "id": "ddc5ed50-dcba-4721-8300-ebdc864f6005",
   "metadata": {},
   "outputs": [],
   "source": [
    "body = {\n",
    "    \"name\" : \"FIU_VAL\",\n",
    "    \"description\" : \"Water level, water temperature and water electrical conductivity recorder Ticino river\",\n",
    "    \"properties\" : {\n",
    "        \"keywords\" : \"water,river,height,temperature,conductivity,ACSOT\",\n",
    "        \"description\": \"River level, water temperature and water electrical conductivity fiume Ticino valle\"\n",
    "    }\n",
    "}\n",
    "\n",
    "# POST request with the JSON body\n",
    "response = requests.post(base_url + 'Things', data=json.dumps(body), headers=headers)\n",
    "\n",
    "# Check if the request was successful (status code 2xx)\n",
    "if response.status_code == 201:\n",
    "    print(f\"Thing created successfully ({response.headers['location']})\")\n",
    "else:\n",
    "    print(f\"Error: {response.status_code}\")\n",
    "    print(response.text)\n",
    "\n",
    "# Let's get the Thing @iot.id using a regex to extract the number in parentheses\n",
    "match = re.search(r'\\((\\d+)\\)', response.headers['location'])\n",
    "if match:\n",
    "    thing_id = int(match.group(1))\n",
    "else:\n",
    "    print(\"No number found in parentheses.\")"
   ]
  },
  {
   "cell_type": "markdown",
   "id": "e9785800-edae-43d8-a897-da2cb5e03596",
   "metadata": {},
   "source": [
    "### Create a Location\n",
    "To create a Location and link it to an existing Thing, you include the Thing's ID in the JSON payload of the Location you are creating."
   ]
  },
  {
   "cell_type": "code",
   "execution_count": null,
   "id": "2cfe1971-d873-4276-bce3-9e7de3a3cc56",
   "metadata": {},
   "outputs": [],
   "source": [
    "body = {\n",
    "    \"name\": \"fiume Ticino valle\",\n",
    "    \"description\": \"\",\n",
    "    \"encodingType\": \"application/vnd.geo+json\",\n",
    "    \"location\": {\n",
    "        \"type\": \"Point\",\n",
    "        \"coordinates\": [\n",
    "            8.956099,\n",
    "            46.172245\n",
    "        ]\n",
    "    },\n",
    "    \"Things\": [\n",
    "        { \"@iot.id\": thing_id}\n",
    "    ]\n",
    "}\n",
    "\n",
    "# POST request with the JSON body\n",
    "response = requests.post(base_url + 'Locations', data=json.dumps(body), headers=headers)\n",
    "\n",
    "# Check if the request was successful (status code 2xx)\n",
    "if response.status_code == 201:\n",
    "    print(f\"Location created successfully ({response.headers['location']})\")\n",
    "else:\n",
    "    print(f\"Error: {response.status_code}\")\n",
    "    print(response.text)\n",
    "\n",
    "# Let's get the Location @iot.id using a regex to extract the number in parentheses\n",
    "match = re.search(r'\\((\\d+)\\)', response.headers['location'])\n",
    "if match:\n",
    "    location_id = int(match.group(1))\n",
    "else:\n",
    "    print(\"No number found in parentheses.\")"
   ]
  },
  {
   "cell_type": "code",
   "execution_count": null,
   "id": "c0fcffa1-3616-4d4e-be44-b3346a02cf22",
   "metadata": {},
   "outputs": [],
   "source": [
    "response = requests.get(f\"{base_url}Things({thing_id})?$expand=Locations\")\n",
    "json_data = json.dumps(response.json(), indent=2)\n",
    "md = f\"```json\\n{json_data}\\n```\"\n",
    "display(Markdown(md))"
   ]
  },
  {
   "cell_type": "code",
   "execution_count": null,
   "id": "9c7c8242-f368-45bf-974b-bbc8e82dc13f",
   "metadata": {},
   "outputs": [],
   "source": [
    "things = meteo.query_api('Things','$expand=Locations')\n",
    "map = meteo.map_things(things)\n",
    "map"
   ]
  },
  {
   "cell_type": "markdown",
   "id": "b51c9cbb-243f-4b8e-868b-42f035730f1d",
   "metadata": {},
   "source": [
    "### Create an Observed Property"
   ]
  },
  {
   "cell_type": "code",
   "execution_count": null,
   "id": "7c31a865-9071-4dab-87d5-02273b73408c",
   "metadata": {},
   "outputs": [],
   "source": [
    "body = {\n",
    "  \"name\": \"ground:water:voltage\",\n",
    "  \"description\": \"Ground water voltage\",\n",
    "  \"properties\": {},\n",
    "  \"definition\": \"{}\"\n",
    "}\n",
    "\n",
    "# POST request with the JSON body\n",
    "response = requests.post(base_url + 'ObservedProperties', data=json.dumps(body), headers=headers)\n",
    "\n",
    "# Check if the request was successful (status code 2xx)\n",
    "if response.status_code == 201:\n",
    "    print(f\"ObservedProperty created successfully ({response.headers['location']})\")\n",
    "else:\n",
    "    print(f\"Error: {response.status_code}\")\n",
    "    print(response.text)\n",
    "\n",
    "# Let's get the Observed Property @iot.id usimng a regex to extract the number in parentheses\n",
    "match = re.search(r'\\((\\d+)\\)', response.headers['location'])\n",
    "if match:\n",
    "    observed_property_id = int(match.group(1))\n",
    "else:\n",
    "    print(\"No number found in parentheses.\")"
   ]
  },
  {
   "cell_type": "markdown",
   "id": "8cb4fef3-ae7c-4e4e-9009-c03f395478fd",
   "metadata": {},
   "source": [
    "### Create a Sensor"
   ]
  },
  {
   "cell_type": "code",
   "execution_count": null,
   "id": "69536d77-5f5e-4d9a-b699-0582627ff28f",
   "metadata": {},
   "outputs": [],
   "source": [
    "body = {\n",
    "  \"name\": \"Ecolog 1000\",\n",
    "  \"description\": \"\",\n",
    "  \"properties\": {},\n",
    "  \"encodingType\": \"application/json\",\n",
    "  \"metadata\": '{\"brand\": \"OTT\", \"type\": \"Pressure, temperature, electrical conductivity sensor\"}'\n",
    "}\n",
    "\n",
    "# POST request with the JSON body\n",
    "response = requests.post(base_url + 'Sensors', data=json.dumps(body), headers=headers)\n",
    "\n",
    "# Check if the request was successful (status code 2xx)\n",
    "if response.status_code == 201:\n",
    "    print(f\"Sensor created successfully ({response.headers['location']})\")\n",
    "else:\n",
    "    print(f\"Error: {response.status_code}\")\n",
    "    print(response.text)\n",
    "\n",
    "# Let's get the Sensor @iot.id usimng a regex to extract the number in parentheses\n",
    "match = re.search(r'\\((\\d+)\\)', response.headers['location'])\n",
    "if match:\n",
    "    sensor_id = int(match.group(1))\n",
    "else:\n",
    "    print(\"No number found in parentheses.\")"
   ]
  },
  {
   "cell_type": "markdown",
   "id": "72b70846-178b-4ac0-ad5d-08fea42453f1",
   "metadata": {},
   "source": [
    "### Create a Datastream\n",
    "The Datastream requires a Thing, Sensor and ObservedProperty. "
   ]
  },
  {
   "cell_type": "code",
   "execution_count": null,
   "id": "67bacdc8-0fc6-4e50-ab21-94fade07adfe",
   "metadata": {},
   "outputs": [],
   "source": [
    "body = {\n",
    "  \"name\" : \"V_FIU_VAL\",\n",
    "  \"description\" : \"\",\n",
    "  \"observationType\": \"\",\n",
    "  \"unitOfMeasurement\": {\n",
    "    \"name\": \"Voltage\",\n",
    "    \"symbol\": \"V\",\n",
    "    \"definition\": \"\"\n",
    "  },\n",
    "  \"Thing\": {\"@iot.id\": thing_id},\n",
    "  \"Sensor\": {\"@iot.id\": sensor_id},\n",
    "  \"ObservedProperty\": {\"@iot.id\": observed_property_id}\n",
    "}\n",
    "\n",
    "# POST request with the JSON body\n",
    "response = requests.post(base_url + 'Datastreams', data=json.dumps(body), headers=headers)\n",
    "\n",
    "# Check if the request was successful (status code 2xx)\n",
    "if response.status_code == 201:\n",
    "    print(f\"Datastream created successfully ({response.headers['location']})\")\n",
    "else:\n",
    "    print(f\"Error: {response.status_code}\")\n",
    "    print(response.text)\n",
    "\n",
    "# Let's get the Datastream @iot.id usimng a regex to extract the number in parentheses\n",
    "match = re.search(r'\\((\\d+)\\)', response.headers['location'])\n",
    "if match:\n",
    "    datastream_id = int(match.group(1))\n",
    "else:\n",
    "    print(\"No number found in parentheses.\")"
   ]
  },
  {
   "cell_type": "code",
   "execution_count": null,
   "id": "b024765f-d94e-4f5b-a002-8f5048335686",
   "metadata": {},
   "outputs": [],
   "source": [
    "response = requests.get(f\"{base_url}Things({thing_id})?$expand=Locations,Datastreams($expand=Sensors,ObservedProperties)\")\n",
    "json_data = json.dumps(response.json(), indent=2)\n",
    "md = f\"```json\\n{json_data}\\n```\"\n",
    "display(Markdown(md))"
   ]
  },
  {
   "cell_type": "markdown",
   "id": "2317ebc7-57e0-469e-a2fb-8a255908d9be",
   "metadata": {},
   "source": [
    "### Create an Observation\n",
    "When creating Observations, the following additional rules apply:\n",
    "\n",
    "1. If the phenomenonTime is not specified in the JSON payload, the server will automatically assign the current time as the phenomenonTime.\n",
    "2. If the featureOfInterest is not provided, the server will generate a FeatureOfInterest based on the Location associated with the Thing from the relevant Datastream."
   ]
  },
  {
   "cell_type": "markdown",
   "id": "767e8564-4c78-45ec-8ff6-4660bc142d5f",
   "metadata": {},
   "source": [
    "#### Create Observation (Datastream in the JSON and FeatureOfInterest set to the Thing's Location)"
   ]
  },
  {
   "cell_type": "code",
   "execution_count": null,
   "id": "29926b6b-cb0e-4a9a-a580-92ee7b101740",
   "metadata": {},
   "outputs": [],
   "source": [
    "body = {\n",
    "    \"result\": 3.63,\n",
    "    \"Datastream\": {\"@iot.id\": datastream_id}\n",
    "}\n",
    "\n",
    "# POST request with the JSON body\n",
    "response = requests.post(base_url + 'Observations', data=json.dumps(body), headers=headers)\n",
    "\n",
    "# Check if the request was successful (status code 2xx)\n",
    "if response.status_code == 201:\n",
    "    print(f\"Observation created successfully ({response.headers['location']})\")\n",
    "else:\n",
    "    print(f\"Error: {response.status_code}\")\n",
    "    print(response.text)\n",
    "\n",
    "# Let's get the Datastream @iot.id usimng a regex to extract the number in parentheses\n",
    "match = re.search(r'\\((\\d+)\\)', response.headers['location'])\n",
    "if match:\n",
    "    observation_id = int(match.group(1))\n",
    "else:\n",
    "    print(\"No number found in parentheses.\")"
   ]
  },
  {
   "cell_type": "markdown",
   "id": "f6bcb23f-fedf-4a4a-b253-4093de72f0a9",
   "metadata": {},
   "source": [
    "#### Create Observation (Datastream in the JSON and new FeatureOfInterest in the JSON)"
   ]
  },
  {
   "cell_type": "code",
   "execution_count": null,
   "id": "3f766bea-8a67-4264-a80a-0726628c8780",
   "metadata": {},
   "outputs": [],
   "source": [
    "body = {\n",
    "    \"result\" : 3.62,\n",
    "    \"Datastream\": {\"@iot.id\": datastream_id},\n",
    "    \"FeatureOfInterest\": {\n",
    "        \"name\": \"A weather station.\",\n",
    "        \"description\": \"A weather station.\",\n",
    "        \"feature\": {\n",
    "            \"type\": \"Point\",\n",
    "            \"coordinates\": [\n",
    "                8.956099,\n",
    "                46.172335\n",
    "            ]\n",
    "        },\n",
    "        \"encodingType\": \"application/vnd.geo+json\"\n",
    "    },\n",
    "}\n",
    "\n",
    "# POST request with the JSON body\n",
    "response = requests.post(base_url + f'Observations', data=json.dumps(body), headers=headers)\n",
    "\n",
    "# Check if the request was successful (status code 2xx)\n",
    "if response.status_code == 201:\n",
    "    print(f\"Observation created successfully ({response.headers['location']})\")\n",
    "else:\n",
    "    print(f\"Error: {response.status_code}\")\n",
    "    print(response.text)\n",
    "\n",
    "# Let's get the Datastream @iot.id usimng a regex to extract the number in parentheses\n",
    "match = re.search(r'\\((\\d+)\\)', response.headers['location'])\n",
    "if match:\n",
    "    observation_id = int(match.group(1))\n",
    "else:\n",
    "    print(\"No number found in parentheses.\")"
   ]
  },
  {
   "cell_type": "markdown",
   "id": "7397b5fc-1015-4750-8dab-fe423feceb00",
   "metadata": {},
   "source": [
    "#### Create Observation (Datastream in the URL and new FeatureOfInterest in the JSON)"
   ]
  },
  {
   "cell_type": "code",
   "execution_count": null,
   "id": "419c871a-af5f-4acb-be6e-ad4706996b0f",
   "metadata": {},
   "outputs": [],
   "source": [
    "body = {\n",
    "    \"result\" : 23,\n",
    "    \"FeatureOfInterest\": {\n",
    "        \"name\": \"A weather station.\",\n",
    "        \"description\": \"A weather station.\",\n",
    "        \"feature\": {\n",
    "            \"type\": \"Point\",\n",
    "            \"coordinates\": [\n",
    "                8.956229,\n",
    "                46.172245\n",
    "            ]\n",
    "        },\n",
    "        \"encodingType\": \"application/vnd.geo+json\"\n",
    "    },\n",
    "}\n",
    "\n",
    "# POST request with the JSON body\n",
    "response = requests.post(base_url + f'Datastreams({datastream_id})/Observations', data=json.dumps(body), headers=headers)\n",
    "\n",
    "# Check if the request was successful (status code 2xx)\n",
    "if response.status_code == 201:\n",
    "    print(f\"Observation created successfully ({response.headers['location']})\")\n",
    "else:\n",
    "    print(f\"Error: {response.status_code}\")\n",
    "    print(response.text)\n",
    "\n",
    "# Let's get the Datastream @iot.id usimng a regex to extract the number in parentheses\n",
    "match = re.search(r'\\((\\d+)\\)', response.headers['location'])\n",
    "if match:\n",
    "    observation_id = int(match.group(1))\n",
    "else:\n",
    "    print(\"No number found in parentheses.\")"
   ]
  },
  {
   "cell_type": "code",
   "execution_count": null,
   "id": "6a218777-60ce-4ac9-8247-07031438d887",
   "metadata": {},
   "outputs": [],
   "source": [
    "response = requests.get(f\"{base_url}Things({thing_id})?$expand=Locations,Datastreams($expand=Sensors,ObservedProperties,Observations($top=3;$expand=FeaturesOfInterest))\")\n",
    "json_data = json.dumps(response.json(), indent=2)\n",
    "md = f\"```json\\n{json_data}\\n```\"\n",
    "display(Markdown(md))"
   ]
  },
  {
   "cell_type": "code",
   "execution_count": null,
   "id": "04285951-59de-4319-89c6-24b03fc99285",
   "metadata": {},
   "outputs": [],
   "source": [
    "datastreams = meteo.query_api('Datastreams')\n",
    "map = meteo.map_datastreams(datastreams)\n",
    "map"
   ]
  },
  {
   "cell_type": "markdown",
   "id": "59078b46-61d5-4cb2-b241-6f86ad5e924e",
   "metadata": {},
   "source": [
    "### Creating multiple related entities in one POST\n",
    "It is possible to create an entities, and its relations, in one POST, by giving the full related entity in the JSON instead of only the entitiy id."
   ]
  },
  {
   "cell_type": "code",
   "execution_count": null,
   "id": "c9734ae7-d7e1-4424-8b5f-dedd81a25333",
   "metadata": {},
   "outputs": [],
   "source": [
    "body = {\n",
    "    \"unitOfMeasurement\": {\n",
    "        \"name\": \"\",\n",
    "        \"symbol\": \"RSSI\",\n",
    "        \"definition\": \"\"\n",
    "    },\n",
    "    \"description\": \"\",\n",
    "    \"name\": \"RSSI_FIU_VAL\",\n",
    "    \"observationType\": \"\",\n",
    "    \"ObservedProperty\": {\n",
    "        \"name\": \"ground:water:signal_strength\",\n",
    "        \"definition\": \"{}\",\n",
    "        \"description\": \"Ground water signal_strength\"\n",
    "    },\n",
    "    \"Sensor\": {\n",
    "        \"@iot.id\": sensor_id\n",
    "    },\n",
    "    \"Thing\": {\n",
    "        \"@iot.id\": thing_id\n",
    "    },\n",
    "    \"Observations\": [\n",
    "        { \n",
    "            \"result\": 1,\n",
    "        },\n",
    "        {\n",
    "            \"result\": 1,\n",
    "            \"FeatureOfInterest\": {\n",
    "                \"name\": \"A weather station.\",\n",
    "                \"description\": \"A weather station.\",\n",
    "                \"feature\": {\n",
    "                    \"type\": \"Point\",\n",
    "                    \"coordinates\": [\n",
    "                        8.956099,\n",
    "                        46.172135\n",
    "                    ]\n",
    "                },\n",
    "                \"encodingType\": \"application/vnd.geo+json\"\n",
    "            },\n",
    "        },\n",
    "        {\n",
    "            \"result\": 0,\n",
    "            \"FeatureOfInterest\": {\n",
    "                \"name\": \"A weather station.\",\n",
    "                \"description\": \"A weather station.\",\n",
    "                \"feature\": {\n",
    "                    \"type\": \"Point\",\n",
    "                    \"coordinates\": [\n",
    "                        8.956219,\n",
    "                        46.172245\n",
    "                    ]\n",
    "                },\n",
    "                \"encodingType\": \"application/vnd.geo+json\"\n",
    "            },\n",
    "        }\n",
    "    ]\n",
    "}\n",
    "\n",
    "# POST request with the JSON body\n",
    "response = requests.post(base_url + 'Datastreams', data=json.dumps(body), headers=headers)\n",
    "\n",
    "# Check if the request was successful (status code 2xx)\n",
    "if response.status_code == 201:\n",
    "    print(f\"Datastream created successfully ({response.headers['location']})\")\n",
    "else:\n",
    "    print(f\"Error: {response.status_code}\")\n",
    "    print(response.text)\n",
    "\n",
    "# Let's get the Thing @iot.id using a regex to extract the number in parentheses\n",
    "match = re.search(r'\\((\\d+)\\)', response.headers['location'])\n",
    "if match:\n",
    "    datastream_id = int(match.group(1))\n",
    "else:\n",
    "    print(\"No number found in parentheses.\")"
   ]
  },
  {
   "cell_type": "code",
   "execution_count": null,
   "id": "a3661d65-1e4d-426a-ba8b-d996fb5f3d86",
   "metadata": {},
   "outputs": [],
   "source": [
    "datastreams = meteo.query_api('Datastreams')\n",
    "map = meteo.map_datastreams(datastreams)\n",
    "map"
   ]
  }
 ],
 "metadata": {
  "kernelspec": {
   "display_name": "Python 3 (ipykernel)",
   "language": "python",
   "name": "python3"
  },
  "language_info": {
   "codemirror_mode": {
    "name": "ipython",
    "version": 3
   },
   "file_extension": ".py",
   "mimetype": "text/x-python",
   "name": "python",
   "nbconvert_exporter": "python",
   "pygments_lexer": "ipython3",
   "version": "3.12.7"
  }
 },
 "nbformat": 4,
 "nbformat_minor": 5
}
