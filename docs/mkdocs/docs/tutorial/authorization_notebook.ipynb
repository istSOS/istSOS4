{
 "cells": [
  {
   "cell_type": "markdown",
   "metadata": {},
   "source": [
    "# Managing Authentication & Authorization<br>Hands-On Example (Python)\n",
    "## Preliminary Steps\n",
    "\n",
    "This section contains the preliminary steps to set up the base URL and import necessary libraries.\n",
    "\n",
    "Replace `IST_SOS_ENDPOINT` in the following script with your istSOS base URL (http://localhost:8018/istsos4/v1.1 or https://istsos.org/v4/v1.1)."
   ]
  },
  {
   "cell_type": "code",
   "execution_count": null,
   "metadata": {},
   "outputs": [],
   "source": [
    "!pip install requests\n",
    "!pip install IPython"
   ]
  },
  {
   "cell_type": "code",
   "execution_count": null,
   "metadata": {},
   "outputs": [],
   "source": [
    "from datetime import datetime\n",
    "import json\n",
    "\n",
    "import requests\n",
    "from IPython.display import Markdown, display\n",
    "\n",
    "IST_SOS_ENDPOINT = \"http://localhost:8018/istsos4/v1.1\""
   ]
  },
  {
   "cell_type": "markdown",
   "metadata": {},
   "source": [
    "## Login as viewer (Authentication)"
   ]
  },
  {
   "cell_type": "code",
   "execution_count": null,
   "metadata": {},
   "outputs": [],
   "source": [
    "username = input(\"Enter your username: \")\n",
    "password = input(\"Enter your password: \")\n",
    "\n",
    "if not username or not password:\n",
    "    print(\"Username or password is empty\")\n",
    "\n",
    "else:\n",
    "    data = {\n",
    "        \"username\": username,\n",
    "        \"password\": password,\n",
    "        \"grant_type\": \"password\",\n",
    "    }\n",
    "\n",
    "    response = requests.post(IST_SOS_ENDPOINT + \"/Login\", data=data)\n",
    "    if response.status_code == 200:\n",
    "        token = response.json()[\"access_token\"]\n",
    "        print(\n",
    "            f\"Token expires at: { datetime.fromtimestamp(response.json()['expires_in'])}\"\n",
    "        )\n",
    "        prefix = username + \"-\"\n",
    "        print(\"Your station name will be prefixed with: \" + prefix)\n",
    "    else:\n",
    "        result = json.dumps(response.json(), indent=2)\n",
    "        display(Markdown(f\"```json\\n{result}\\n```\"))"
   ]
  },
  {
   "cell_type": "markdown",
   "metadata": {},
   "source": [
    "### Retrieve data (Authorization)"
   ]
  },
  {
   "cell_type": "markdown",
   "metadata": {},
   "source": [
    "#### Retrieve a Thing"
   ]
  },
  {
   "cell_type": "code",
   "execution_count": null,
   "metadata": {},
   "outputs": [],
   "source": [
    "response = requests.get(\n",
    "    IST_SOS_ENDPOINT + \"/Things\",\n",
    "    headers={\"Authorization\": f\"Bearer {token}\"},\n",
    ")\n",
    "result = json.dumps(response.json(), indent=2)\n",
    "display(Markdown(f\"```json\\n{result}\\n```\"))"
   ]
  },
  {
   "cell_type": "markdown",
   "metadata": {},
   "source": [
    "### Create data (Authorization)"
   ]
  },
  {
   "cell_type": "markdown",
   "metadata": {},
   "source": [
    "#### Create a Thing"
   ]
  },
  {
   "cell_type": "code",
   "execution_count": null,
   "metadata": {},
   "outputs": [],
   "source": [
    "thing = {\n",
    "    \"name\": f\"{prefix}Lugano Lake\",\n",
    "    \"description\": \"The Apline Lake located in Southern Switzerland\",\n",
    "    \"properties\": {\n",
    "        \"Max depth\": \"288 m\",\n",
    "    },\n",
    "}\n",
    "\n",
    "response = requests.post(\n",
    "    IST_SOS_ENDPOINT + \"/Things\",\n",
    "    data=json.dumps(thing),\n",
    "    headers={\n",
    "        \"Content-type\": \"application/json\",\n",
    "        \"Authorization\": f\"Bearer {token}\",\n",
    "        \"Commit-message\": \"Create new thing\",\n",
    "    },\n",
    ")\n",
    "\n",
    "if response.status_code == 201:\n",
    "    print(f\"Thing created successfully ({response.headers['location']})\")\n",
    "else:\n",
    "    result = json.dumps(response.json(), indent=2)\n",
    "    display(Markdown(f\"```json\\n{result}\\n```\"))"
   ]
  },
  {
   "cell_type": "markdown",
   "metadata": {},
   "source": [
    "## Login as editor (Authentication)"
   ]
  },
  {
   "cell_type": "code",
   "execution_count": null,
   "metadata": {},
   "outputs": [],
   "source": [
    "username = input(\"Enter your username: \")\n",
    "password = input(\"Enter your password: \")\n",
    "\n",
    "if not username or not password:\n",
    "    print(\"Username or password is empty\")\n",
    "\n",
    "else:\n",
    "    data = {\n",
    "        \"username\": username,\n",
    "        \"password\": password,\n",
    "        \"grant_type\": \"password\",\n",
    "    }\n",
    "\n",
    "    response = requests.post(IST_SOS_ENDPOINT + \"/Login\", data=data)\n",
    "    if response.status_code == 200:\n",
    "        token = response.json()[\"access_token\"]\n",
    "        print(\n",
    "            f\"Token expires at: { datetime.fromtimestamp(response.json()['expires_in'])}\"\n",
    "        )\n",
    "        prefix = username + \"-\"\n",
    "    else:\n",
    "        result = json.dumps(response.json(), indent=2)\n",
    "        display(Markdown(f\"```json\\n{result}\\n```\"))"
   ]
  },
  {
   "cell_type": "markdown",
   "metadata": {},
   "source": [
    "### Retrieve data (Authorization)"
   ]
  },
  {
   "cell_type": "markdown",
   "metadata": {},
   "source": [
    "#### Retrieve the Thing"
   ]
  },
  {
   "cell_type": "code",
   "execution_count": null,
   "metadata": {},
   "outputs": [],
   "source": [
    "response = requests.get(\n",
    "    IST_SOS_ENDPOINT + \"/Things\",\n",
    "    headers={\"Authorization\": f\"Bearer {token}\"},\n",
    ")\n",
    "result = json.dumps(response.json(), indent=2)\n",
    "display(Markdown(f\"```json\\n{result}\\n```\"))"
   ]
  },
  {
   "cell_type": "markdown",
   "metadata": {},
   "source": [
    "### Create data (Authorization)"
   ]
  },
  {
   "cell_type": "markdown",
   "metadata": {},
   "source": [
    "#### Create a Thing"
   ]
  },
  {
   "cell_type": "code",
   "execution_count": null,
   "metadata": {},
   "outputs": [],
   "source": [
    "thing = {\n",
    "    \"name\": f\"{prefix}Lugano Lake\",\n",
    "    \"description\": \"The Apline Lake located in Southern Switzerland\",\n",
    "    \"properties\": {\n",
    "        \"Max depth\": \"288 m\",\n",
    "    },\n",
    "}\n",
    "\n",
    "response = requests.post(\n",
    "    IST_SOS_ENDPOINT + \"/Things\",\n",
    "    data=json.dumps(thing),\n",
    "    headers={\n",
    "        \"Content-type\": \"application/json\",\n",
    "        \"Authorization\": f\"Bearer {token}\",\n",
    "        \"Commit-message\": \"Create new thing\",\n",
    "    },\n",
    ")\n",
    "\n",
    "if response.status_code == 201:\n",
    "    print(f\"Thing created successfully ({response.headers['location']})\")\n",
    "else:\n",
    "    result = json.dumps(response.json(), indent=2)\n",
    "    display(Markdown(f\"```json\\n{result}\\n```\"))"
   ]
  }
 ],
 "metadata": {
  "kernelspec": {
   "display_name": "Python 3",
   "language": "python",
   "name": "python3"
  },
  "language_info": {
   "codemirror_mode": {
    "name": "ipython",
    "version": 3
   },
   "file_extension": ".py",
   "mimetype": "text/x-python",
   "name": "python",
   "nbconvert_exporter": "python",
   "pygments_lexer": "ipython3",
   "version": "3.12.3"
  }
 },
 "nbformat": 4,
 "nbformat_minor": 2
}
