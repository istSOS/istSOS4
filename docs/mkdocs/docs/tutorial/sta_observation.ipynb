{
 "cells": [
  {
   "cell_type": "markdown",
   "metadata": {},
   "source": [
    "# Utilizing the SensorThings API\n",
    "## Preliminary Steps\n",
    "\n",
    "This section contains the preliminary steps to set up the base URL, headers, and import necessary libraries.\n",
    "\n",
    "Replace `IST_SOS_ENDPOINT` in the following script with your istSOS base URL (http://localhost:8018/istsos4/v1.1 or https://istsos.org/v4/v1.1)."
   ]
  },
  {
   "cell_type": "code",
   "execution_count": null,
   "metadata": {},
   "outputs": [],
   "source": [
    "!pip install requests\n",
    "!pip install IPython"
   ]
  },
  {
   "cell_type": "code",
   "execution_count": null,
   "metadata": {},
   "outputs": [],
   "source": [
    "import json\n",
    "import re\n",
    "from datetime import datetime\n",
    "\n",
    "import requests\n",
    "from IPython.display import Markdown, display\n",
    "\n",
    "IST_SOS_ENDPOINT = \"http://localhost:8018/istsos4/v1.1\""
   ]
  },
  {
   "cell_type": "markdown",
   "metadata": {},
   "source": [
    "## Login as editor"
   ]
  },
  {
   "cell_type": "code",
   "execution_count": null,
   "metadata": {},
   "outputs": [],
   "source": [
    "username = input(\"Enter your username: \")\n",
    "password = input(\"Enter your password: \")\n",
    "\n",
    "if not username or not password:\n",
    "    print(\"Username or password is empty\")\n",
    "\n",
    "else:\n",
    "    data = {\n",
    "        \"username\": username,\n",
    "        \"password\": password,\n",
    "        \"grant_type\": \"password\",\n",
    "    }\n",
    "\n",
    "    response = requests.post(IST_SOS_ENDPOINT + \"/Login\", data=data)\n",
    "    if response.status_code == 200:\n",
    "        token = response.json()[\"access_token\"]\n",
    "        print(\n",
    "            f\"Token expires at: { datetime.fromtimestamp(response.json()['expires_in'])}\"\n",
    "        )\n",
    "        prefix = username + \"-\"\n",
    "        print(\"Your station name will be prefixed with: \" + prefix)\n",
    "    else:\n",
    "        result = json.dumps(response.json(), indent=2)\n",
    "        display(Markdown(f\"```json\\n{result}\\n```\"))"
   ]
  },
  {
   "cell_type": "markdown",
   "metadata": {},
   "source": [
    "## Create Datastream"
   ]
  },
  {
   "cell_type": "code",
   "execution_count": null,
   "metadata": {},
   "outputs": [],
   "source": [
    "body = {\n",
    "    \"unitOfMeasurement\": {\"name\": \"\", \"symbol\": \"RSSI\", \"definition\": \"\"},\n",
    "    \"description\": \"\",\n",
    "    \"name\": f\"{prefix}RSSI_FIU_VALL\",\n",
    "    \"observationType\": \"\",\n",
    "    \"ObservedProperty\": {\n",
    "        \"name\": \"ground:water:signal_strength\",\n",
    "        \"definition\": \"{}\",\n",
    "        \"description\": \"Ground water signal_strength\",\n",
    "    },\n",
    "    \"Sensor\": {\n",
    "        \"name\": f\"{prefix}Ecolog 10000\",\n",
    "        \"description\": \"\",\n",
    "        \"properties\": {},\n",
    "        \"encodingType\": \"application/json\",\n",
    "        \"metadata\": '{\"brand\": \"OTT\", \"type\": \"Pressure, temperature, electrical conductivity sensor\"}',\n",
    "    },\n",
    "    \"Thing\": {\n",
    "        \"name\": f\"{prefix}FIU_VALL\",\n",
    "        \"description\": \"Water level, water temperature and water electrical conductivity recorder Ticino river\",\n",
    "        \"properties\": {\n",
    "            \"keywords\": \"water,river,height,temperature,conductivity,ACSOT\",\n",
    "            \"description\": \"River level, water temperature and water electrical conductivity fiume Ticino valle\",\n",
    "        },\n",
    "        \"Locations\": [\n",
    "            {\n",
    "                \"name\": f\"{prefix}fiume Ticino\",\n",
    "                \"description\": \"\",\n",
    "                \"encodingType\": \"application/vnd.geo+json\",\n",
    "                \"location\": {\n",
    "                    \"type\": \"Point\",\n",
    "                    \"coordinates\": [8.956099, 46.172245],\n",
    "                },\n",
    "            }\n",
    "        ],\n",
    "    },\n",
    "}\n",
    "\n",
    "response = requests.post(\n",
    "    IST_SOS_ENDPOINT + \"/Datastreams\",\n",
    "    data=json.dumps(body),\n",
    "    headers={\n",
    "        \"Content-type\": \"application/json\",\n",
    "        \"Authorization\": f\"Bearer {token}\",\n",
    "        \"Commit-message\": \"Create Datastrem and related Observations\",\n",
    "    },\n",
    ")\n",
    "\n",
    "if response.status_code == 201:\n",
    "    print(f\"Datastream created successfully ({response.headers['location']})\")\n",
    "    match = re.search(r\"\\((\\d+)\\)\", response.headers[\"location\"])\n",
    "    if match:\n",
    "        datastream_id = int(match.group(1))\n",
    "    else:\n",
    "        print(\"No number found in parentheses.\")\n",
    "else:\n",
    "    result = json.dumps(response.json(), indent=2)\n",
    "    display(Markdown(f\"```json\\n{result}\\n```\"))"
   ]
  },
  {
   "cell_type": "markdown",
   "metadata": {},
   "source": [
    "## Create Observations\n",
    "\n",
    "To complete this step, download the `fakedata2sta.py` file from [GitHub](https://github.com/istSOS/istSOS4/tree/refactoring/docs/mkdocs/docs/tutorial/fakedata2sta.py).\n",
    "This script collects weather data and sends fake observations to an istSOS endpoint.\n",
    "To start the service, navigate to the directory containing `fakedata2sta.py` file and execute the following command to run it in the background and begin generating data:\n",
    "\n",
    "```sh\n",
    "python3 fakedata2sta.py\n",
    "```\n",
    "\n",
    "The script ask you these parameters:\n",
    "\n",
    "- `istsos_endpoint`: The istSOS base URL (e.g. `IST_SOS_ENDPOINT`).\n",
    "- `istsos_username`: The username of an istSOS user with privileges to send data (typically an editor-level account).\n",
    "- `istsos_password`: The password of the istsos user.\n",
    "- `datastream_id`: The identifier of the datastream to which observations will be linked (e.g. ID of the previously created Datastream).\n",
    "- `frequency`: The frequency of the data to be sent.\n",
    "- `latitude`: The latitude of the position.\n",
    "- `longitude`: The longitude of the position."
   ]
  },
  {
   "cell_type": "markdown",
   "metadata": {},
   "source": [
    "## Visualize data\n",
    "\n",
    "You can now use the Jupyter Notebook to visualize the data.\n",
    "\n",
    "In the following script, replace `IST_SOS_ENDPOINT` variable with your istSOS base URL (http://localhost:8018/istsos4/v1.1 or https://istsos.org/v4/v1.1)."
   ]
  },
  {
   "cell_type": "code",
   "execution_count": null,
   "metadata": {},
   "outputs": [],
   "source": [
    "!pip install python-dateutil\n",
    "!pip install matplotlib"
   ]
  },
  {
   "cell_type": "code",
   "execution_count": null,
   "metadata": {},
   "outputs": [],
   "source": [
    "import time\n",
    "\n",
    "import matplotlib.pyplot as plt\n",
    "import requests\n",
    "from dateutil import parser\n",
    "from IPython.display import clear_output\n",
    "\n",
    "IST_SOS_ENDPOINT = \"http://localhost:8018/istsos4/v1.1\""
   ]
  },
  {
   "cell_type": "markdown",
   "metadata": {},
   "source": [
    "### Login as editor\n",
    "The script ask you these parameters:\n",
    "\n",
    "- `istsos_username`: The username of an istSOS user with privileges to send data (typically an editor-level account).\n",
    "- `istsos_password`: The password of the istsos user.\n",
    "- `datastream_id`: The identifier of the datastream to which observations will be linked (e.g. ID of the previously created Datastream).\n",
    "- `frequency`: The frequency of the data to be sent."
   ]
  },
  {
   "cell_type": "code",
   "execution_count": null,
   "metadata": {},
   "outputs": [],
   "source": [
    "# Set variables from user input\n",
    "istsos_username = input(\"Enter your istsos username: \")\n",
    "if istsos_username.strip() == \"\":\n",
    "    print(\"You must enter a username\")\n",
    "    exit()\n",
    "istsos_password = input(\"Enter your istsos password: \")\n",
    "if istsos_password.strip() == \"\":\n",
    "    print(\"You must enter a password\")\n",
    "    exit()\n",
    "datastream_id = input(\"Enter the datastream ID: \")\n",
    "if datastream_id.strip() == \"\":\n",
    "    print(\"You must enter a datastream ID\")\n",
    "    exit()\n",
    "else:\n",
    "    try:\n",
    "        datastream_id = int(datastream_id)\n",
    "    except ValueError:\n",
    "        print(\"Datastream ID must be an integer\")\n",
    "        exit()\n",
    "frequency = input(\n",
    "    \"Enter the frequency of the stream in seconds (default: 5): \"\n",
    ")\n",
    "if frequency.strip() == \"\":\n",
    "    frequency = 5\n",
    "else:\n",
    "    try:\n",
    "        frequency = int(frequency)\n",
    "    except ValueError:\n",
    "        print(\"Frequency must be an integer\")\n",
    "        exit()\n",
    "\n",
    "# Login to istsos and get token\n",
    "req = requests.post(\n",
    "    f\"{IST_SOS_ENDPOINT}/Login\",\n",
    "    headers={\"Content-Type\": \"application/x-www-form-urlencoded\"},\n",
    "    data={\"username\": istsos_username, \"password\": istsos_password},\n",
    ")\n",
    "\n",
    "if req.status_code != 200:\n",
    "    print(\"Login failed\")\n",
    "    raise Exception(req.text)\n",
    "token_obj = req.json()"
   ]
  },
  {
   "cell_type": "markdown",
   "metadata": {},
   "source": [
    "### Retrieve data"
   ]
  },
  {
   "cell_type": "code",
   "execution_count": null,
   "metadata": {},
   "outputs": [],
   "source": [
    "# Initial data fetch\n",
    "req = requests.get(\n",
    "    f\"{IST_SOS_ENDPOINT}/Datastreams({datastream_id})/Observations?$orderby=phenomenonTime desc\",\n",
    "    headers={\n",
    "        \"Content-Type\": \"application/json\",\n",
    "        \"Authorization\": f\"Bearer {token_obj['access_token']}\",\n",
    "    },\n",
    ")\n",
    "\n",
    "if req.status_code != 200:\n",
    "    print(\"Failed to get datastream\")\n",
    "    raise Exception(req.text)\n",
    "else:\n",
    "    data = req.json()[\"value\"]\n",
    "    dt = [parser.parse(i[\"phenomenonTime\"]) for i in data]\n",
    "    values = [i[\"result\"] for i in data]\n",
    "\n",
    "# Reverse the order for chronological plotting\n",
    "dt.reverse()\n",
    "values.reverse()\n",
    "\n",
    "\n",
    "while True:\n",
    "\n",
    "    # Fetch the latest observation\n",
    "    req = requests.get(\n",
    "        f\"{IST_SOS_ENDPOINT}/Datastreams({datastream_id})/Observations?$orderby=phenomenonTime desc\",\n",
    "        headers={\n",
    "            \"Content-Type\": \"application/json\",\n",
    "            \"Authorization\": f\"Bearer {token_obj['access_token']}\",\n",
    "        },\n",
    "    )\n",
    "    if req.status_code == 200:\n",
    "\n",
    "        clear_output(wait=True)\n",
    "        fig, ax = plt.subplots(figsize=(20, 10))\n",
    "        ax.set_title(\"Real-Time Sensor Data\")\n",
    "        ax.set_xlabel(\"Time\")\n",
    "        ax.set_ylabel(\"Values\")\n",
    "        ax.grid(True)\n",
    "        new_data = req.json()[\"value\"]\n",
    "        for obs in new_data:\n",
    "            obs_time = parser.parse(obs[\"phenomenonTime\"])\n",
    "            if obs_time not in dt:\n",
    "                dt.append(obs_time)\n",
    "                values.append(obs[\"result\"])\n",
    "        ax.plot(dt, values, label=\"Sensor Data\")\n",
    "        plt.pause(0.1)\n",
    "\n",
    "    else:\n",
    "        print(\"Failed to fetch the latest observation\")\n",
    "        print(req.text)\n",
    "\n",
    "    time.sleep(frequency)"
   ]
  }
 ],
 "metadata": {
  "kernelspec": {
   "display_name": "Python 3",
   "language": "python",
   "name": "python3"
  },
  "language_info": {
   "codemirror_mode": {
    "name": "ipython",
    "version": 3
   },
   "file_extension": ".py",
   "mimetype": "text/x-python",
   "name": "python",
   "nbconvert_exporter": "python",
   "pygments_lexer": "ipython3",
   "version": "3.12.3"
  }
 },
 "nbformat": 4,
 "nbformat_minor": 2
}
