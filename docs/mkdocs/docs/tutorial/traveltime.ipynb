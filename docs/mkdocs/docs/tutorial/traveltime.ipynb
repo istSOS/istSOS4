{
 "cells": [
  {
   "cell_type": "markdown",
   "id": "09e8057a-1844-4c98-b513-620b2d30f177",
   "metadata": {},
   "source": [
    "# Leveraging the TravelTime Extension for Reproducibility and Data Lineage\n",
    "## STA API time-travel extension\n",
    "This extension assists istSTA users in accessing historical time travel data. It enables users to retrieve information from a web service as it appeared at a specific moment in time, using a new query parameter called **as_of**.\n",
    "\n",
    "Additionally, it introduces a new entity called Commit, which enables data lineage, allowing users to trace data changes. \n",
    "From a scientific perspective, this extension enables FAIR data management by allowing datasets to be permanently cited. This is achieved by using a combination of the service address (<font color='red'>in red</font>), the request that returns the dataset (<font color='green'>in green</font>), and the dataset's status at a specific time instant (<font color='orange'>in orange</font>) as a Persistent Identifier for reference.\n",
    "\n",
    "Example: <font color='red'>https://&lt;base_url&gt;/&lt;version&gt;/</font><font color='green'>&lt;entity&gt;?$expand=&lt;entity&gt;</font><font color='orange'>&\\$as_of=&lt;date_time&gt;</font>\n",
    "\n",
    "## Definition\n",
    "The *time-travel* extension adds the following optional query parameters to any STA request:\n",
    "\n",
    "| Parameter | Type               | Description                                                                       |\n",
    "| --------- | ------------------ | --------------------------------------------------------------------------------- |\n",
    "| `as_of`   | ISO 8601 date-time | a date-time parameter to specify the exact moment for which the data is requested |\n",
    "| `from_to` | ISO 8601 period    | a period parameter to specify the time interval for which the data is requested   |\n",
    "\n",
    "The *time-travel* extension introduces a new entity, Commit, with the following properties:\n",
    "\n",
    "| Properties     | Type               | Multiplicity and use | Description                                                                    |\n",
    "| -------------- | ------------------ | -------------------- | ------------------------------------------------------------------------------ |\n",
    "| `author`       | string(128)        | One (mandatory)      | Authority, Username or User Profile Link                                       |\n",
    "| `encodingType` | string             | One (optional)       | The encoding type of the message (default is `text`).                          |\n",
    "| `message`      | string(256)        | One (mandatory)      | Commit message detailing the scope, motivation, and method of the transaction. |\n",
    "| `date`         | ISO 8601 date-time | One (mandatory)      | A date-time that specifies the exact moment when the commit was executed.      |\n",
    "\n",
    "Commits are related to SensorThings API entities with a one-to-zero-or-one (1:0..1) relationship."
   ]
  },
  {
   "cell_type": "markdown",
   "id": "671193ce-a969-4dbb-a5b1-1b212af733f4",
   "metadata": {},
   "source": [
    "## Preliminary Steps\n",
    "\n",
    "This section contains the preliminary steps to set up the base URL and import necessary libraries.\n",
    "\n",
    "Replace `IST_SOS_ENDPOINT` in the following script with your istSOS base URL (http://localhost:8018/istsos4/v1.1 or https://istsos.org/v4/v1.1)."
   ]
  },
  {
   "cell_type": "code",
   "execution_count": null,
   "id": "2e11ec87",
   "metadata": {},
   "outputs": [],
   "source": [
    "!pip install requests\n",
    "!pip install IPython"
   ]
  },
  {
   "cell_type": "code",
   "execution_count": null,
   "id": "f124ebf0-10de-4db0-962b-1a7947d72c7d",
   "metadata": {},
   "outputs": [],
   "source": [
    "import json\n",
    "import re\n",
    "from datetime import datetime, timedelta\n",
    "\n",
    "import requests\n",
    "from IPython.display import Markdown, display\n",
    "\n",
    "IST_SOS_ENDPOINT = \"http://localhost:8018/istsos4/v1.1\""
   ]
  },
  {
   "cell_type": "markdown",
   "id": "7cedb7e2",
   "metadata": {},
   "source": [
    "## Login as editor"
   ]
  },
  {
   "cell_type": "code",
   "execution_count": null,
   "id": "384158e9",
   "metadata": {},
   "outputs": [],
   "source": [
    "username = input(\"Enter your username: \")\n",
    "password = input(\"Enter your password: \")\n",
    "\n",
    "if not username or not password:\n",
    "    print(\"Username or password is empty\")\n",
    "\n",
    "else:\n",
    "    data = {\n",
    "        \"username\": username,\n",
    "        \"password\": password,\n",
    "        \"grant_type\": \"password\",\n",
    "    }\n",
    "\n",
    "    response = requests.post(IST_SOS_ENDPOINT + \"/Login\", data=data)\n",
    "    if response.status_code == 200:\n",
    "        token = response.json()[\"access_token\"]\n",
    "        print(\n",
    "            f\"Token expires at: { datetime.fromtimestamp(response.json()['expires_in'])}\"\n",
    "        )\n",
    "        prefix = username + \"-\"\n",
    "        print(\"Your station name will be prefixed with: \" + prefix)\n",
    "    else:\n",
    "        result = json.dumps(response.json(), indent=2)\n",
    "        display(Markdown(f\"```json\\n{result}\\n```\"))"
   ]
  },
  {
   "cell_type": "markdown",
   "id": "62e0e5c4",
   "metadata": {},
   "source": [
    "## Create a Thing"
   ]
  },
  {
   "cell_type": "code",
   "execution_count": null,
   "id": "03a29ba8",
   "metadata": {},
   "outputs": [],
   "source": [
    "body = {\n",
    "    \"name\": f\"{prefix}Lugano Lakee\",\n",
    "    \"description\": \"The Apline Lake located in Southern Switzerland\",\n",
    "    \"properties\": {\n",
    "        \"Max depth\": \"288 m\",\n",
    "    },\n",
    "}\n",
    "\n",
    "response = requests.post(\n",
    "    IST_SOS_ENDPOINT + \"/Things\",\n",
    "    data=json.dumps(body),\n",
    "    headers={\n",
    "        \"Content-type\": \"application/json\",\n",
    "        \"Authorization\": f\"Bearer {token}\",\n",
    "        \"Commit-message\": \"Create new thing\",\n",
    "    },\n",
    ")\n",
    "\n",
    "if response.status_code == 201:\n",
    "    print(f\"Thing created successfully ({response.headers['location']})\")\n",
    "    match = re.search(r\"\\((\\d+)\\)\", response.headers[\"location\"])\n",
    "    if match:\n",
    "        thing_id = int(match.group(1))\n",
    "    else:\n",
    "        print(\"No number found in parentheses.\")\n",
    "else:\n",
    "    result = json.dumps(response.json(), indent=2)\n",
    "    display(Markdown(f\"```json\\n{result}\\n```\"))"
   ]
  },
  {
   "cell_type": "markdown",
   "id": "dbc4abba",
   "metadata": {},
   "source": [
    "## Take a rest and whait e few minutes..."
   ]
  },
  {
   "cell_type": "markdown",
   "id": "c57dd5df",
   "metadata": {},
   "source": [
    "## Update the Thing"
   ]
  },
  {
   "cell_type": "code",
   "execution_count": null,
   "id": "628cb1e0",
   "metadata": {},
   "outputs": [],
   "source": [
    "body = {\n",
    "    \"properties\": {\n",
    "        \"Catchment area\": \"565.6 km²\",\n",
    "        \"Surface Area\": \"38.7 km²\",\n",
    "        \"Avg. Depth\": \"124 m\",\n",
    "        \"Max depth\": \"288 m\",\n",
    "        \"Water Volume\": \"6.5 km³\",\n",
    "        \"Surface elevation\": \"271 m\",\n",
    "        \"Primary inflows\": [\n",
    "            \"Vedeggio\",\n",
    "            \"Cassarate\",\n",
    "            \"Cuccio\",\n",
    "            \"Laveggio\",\n",
    "            \"Magliasina\",\n",
    "            \"Bolletta\",\n",
    "            \"Scairolo\",\n",
    "        ],\n",
    "        \"Primary outflows\": \"Tresa\",\n",
    "    },\n",
    "}\n",
    "\n",
    "response = requests.patch(\n",
    "    f\"{IST_SOS_ENDPOINT}/Things({thing_id})\",\n",
    "    data=json.dumps(body),\n",
    "    headers={\n",
    "        \"Content-type\": \"application/json\",\n",
    "        \"Authorization\": f\"Bearer {token}\",\n",
    "        \"Commit-message\": \"Corrected properties\",\n",
    "    },\n",
    ")\n",
    "\n",
    "if response.status_code == 200:\n",
    "    print(f\"Thing properties updated successfully\")\n",
    "    local_timezone = datetime.now().astimezone().tzinfo\n",
    "    datetime_before_update = datetime.now(local_timezone) - timedelta(seconds=1)\n",
    "else:\n",
    "    result = json.dumps(response.json(), indent=2)\n",
    "    display(Markdown(f\"```json\\n{result}\\n```\"))"
   ]
  },
  {
   "cell_type": "markdown",
   "id": "b8c8d1ef",
   "metadata": {},
   "source": [
    "## Retrieve the Thing"
   ]
  },
  {
   "cell_type": "markdown",
   "id": "0ef848ee",
   "metadata": {},
   "source": [
    "### Retrieve the current state of the Thing"
   ]
  },
  {
   "cell_type": "code",
   "execution_count": null,
   "id": "d42dad54",
   "metadata": {},
   "outputs": [],
   "source": [
    "response = requests.get(\n",
    "    f\"{IST_SOS_ENDPOINT}/Things({thing_id})?$expand=Commit\",\n",
    "    headers={\n",
    "        \"Authorization\": f\"Bearer {token}\",\n",
    "    },\n",
    ")\n",
    "result = json.dumps(response.json(), indent=2)\n",
    "display(Markdown(f\"```json\\n{result}\\n```\"))"
   ]
  },
  {
   "cell_type": "markdown",
   "id": "15a2e5e9-8efc-41f8-8492-cc56b55963ff",
   "metadata": {},
   "source": [
    "### Retrieve the Thing's state at a specific point in time (before update)"
   ]
  },
  {
   "cell_type": "code",
   "execution_count": null,
   "id": "93c85e63-534f-4fef-aebf-89045ae5bdf2",
   "metadata": {},
   "outputs": [],
   "source": [
    "response = requests.get(\n",
    "    f\"{IST_SOS_ENDPOINT}/Things({thing_id})?$expand=Commit&$as_of={datetime_before_update}\",\n",
    "    headers={\n",
    "        \"Authorization\": f\"Bearer {token}\",\n",
    "    },\n",
    ")\n",
    "result = json.dumps(response.json(), indent=2)\n",
    "display(Markdown(f\"```json\\n{result}\\n```\"))"
   ]
  },
  {
   "cell_type": "markdown",
   "id": "2d577f2b",
   "metadata": {},
   "source": [
    "### Retrieve the historical states of the Thing"
   ]
  },
  {
   "cell_type": "code",
   "execution_count": null,
   "id": "c1c876fe",
   "metadata": {},
   "outputs": [],
   "source": [
    "local_timezone = datetime.now().astimezone().tzinfo\n",
    "datetime_now = datetime.now(local_timezone) - timedelta(seconds=1)\n",
    "response = requests.get(\n",
    "    f\"{IST_SOS_ENDPOINT}/Things({thing_id})?$expand=Commit&$from_to={datetime_before_update}/{datetime_now}\",\n",
    "    headers={\n",
    "        \"Authorization\": f\"Bearer {token}\",\n",
    "    },\n",
    ")\n",
    "result = json.dumps(response.json(), indent=2)\n",
    "display(Markdown(f\"```json\\n{result}\\n```\"))"
   ]
  }
 ],
 "metadata": {
  "kernelspec": {
   "display_name": "Python 3",
   "language": "python",
   "name": "python3"
  },
  "language_info": {
   "codemirror_mode": {
    "name": "ipython",
    "version": 3
   },
   "file_extension": ".py",
   "mimetype": "text/x-python",
   "name": "python",
   "nbconvert_exporter": "python",
   "pygments_lexer": "ipython3",
   "version": "3.12.3"
  }
 },
 "nbformat": 4,
 "nbformat_minor": 5
}
